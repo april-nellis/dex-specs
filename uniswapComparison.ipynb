{
 "cells": [
  {
   "cell_type": "markdown",
   "id": "4c57da73-cd92-4d5f-a656-984e5544a3f5",
   "metadata": {},
   "source": [
    "# Uniswap Decentralized Exchange Pool Simulation"
   ]
  },
  {
   "cell_type": "markdown",
   "id": "8743735f-7032-4784-aa11-17d2f777dd43",
   "metadata": {},
   "source": [
    "Owner: April Nellis\n",
    "\n",
    "Companion code to [*DEX Specs: A Mean-Field Approach to DeFi Cryptocurrency Exchanges*](https://arxiv.org/abs/2404.09090)"
   ]
  },
  {
   "cell_type": "code",
   "execution_count": null,
   "id": "3685b196-f490-45ba-b045-3e605ae1d2f6",
   "metadata": {},
   "outputs": [],
   "source": [
    "import numpy as np\n",
    "import pandas as pd\n",
    "import math\n",
    "import itertools\n",
    "pd.options.mode.chained_assignment = None  # default='warn'\n",
    "import os.path\n",
    "from datetime import datetime, timedelta\n",
    "import time\n",
    "import requests\n",
    "import re\n",
    "import statsmodels.api as sm\n",
    "import scipy.stats as stats\n",
    "from scipy.optimize import curve_fit\n",
    "from scipy.stats import wasserstein_distance\n",
    "from scipy import optimize\n",
    "from IPython.display import Image\n",
    "from coinmetrics.api_client import CoinMetricsClient\n",
    "import matplotlib.pyplot as plt\n",
    "import matplotlib.cm as cm\n",
    "import seaborn as sns\n",
    "import import_ipynb\n",
    "from IPython.display import IFrame\n",
    "import tensorflow as tf\n",
    "from tensorflow import keras\n",
    "from sklearn.model_selection import train_test_split\n",
    "from sklearn.metrics import mean_absolute_percentage_error as mape\n",
    "from sklearn.metrics import mean_squared_error as mse\n",
    "from sklearn.neighbors import KernelDensity\n",
    "from decimal import Decimal\n",
    "\n",
    "from sklearn.linear_model import LinearRegression, Ridge, Lasso\n",
    "\n",
    "# Just disables the annoying warning, doesn't enable AVX/FMA\n",
    "import os\n",
    "os.environ['TF_CPP_MIN_LOG_LEVEL'] = '2'\n",
    "\n",
    "%matplotlib widget\n",
    "\n",
    "#plt.rcParams[\"figure.autolayout\"] = True\n",
    "plt.rcParams[\"figure.figsize\"] = [7,5]"
   ]
  },
  {
   "cell_type": "markdown",
   "id": "8244a77a-2cc5-498b-ad9c-c623eb0c7b0f",
   "metadata": {},
   "source": [
    "## Initialization"
   ]
  },
  {
   "cell_type": "markdown",
   "id": "bdd0f26c-4f3b-4bc9-8b36-9a76cadde925",
   "metadata": {},
   "source": [
    "This code is written for the specific example provided in DEX Specs. If the user wishes to examine a different pool or a different time interval, follow the following stpes:\n",
    "1. Run `uniswapAnalysis.ipynb` for your desired pool and dates.\n",
    "2. Adjust the `zeta` and `capital_list` parameters (below) accordingly.\n",
    "3. Redefine the swapper's behavior in DEX.py if necessary.\n",
    "4. Download the liquidity distribution at desired point(s) in time. (This can be achieved in a variety of ways, none of which are free.)\n",
    "5. Convert the liquidity pool information into a `Pool` object (defined in DEX.py)"
   ]
  },
  {
   "cell_type": "markdown",
   "id": "778a1af9-a0f8-4631-b2de-45012740f357",
   "metadata": {},
   "source": [
    "[**USDC/ETH Pool with 0.05% Fee**](https://info.uniswap.org/#/pools/0x88e6a0c2ddd26feeb64f039a2c41296fcb3f5640): This pool facilitates swaps between USDC and Ethereum. This pool has the largest daily trading volume and a much higher TVL than other USDC/ETH pools (as of 01/24/2023)."
   ]
  },
  {
   "cell_type": "code",
   "execution_count": null,
   "id": "d9af29a5",
   "metadata": {},
   "outputs": [],
   "source": [
    "# Contract addresses for each coin:\n",
    "ETH = '0xC02aaA39b223FE8D0A0e5C4F27eAD9083C756Cc2'\n",
    "USDC = '0xA0b86991c6218b36c1d19D4a2e9Eb0cE3606eB48'\n",
    "POOL = 3"
   ]
  },
  {
   "cell_type": "markdown",
   "id": "44fbcea4",
   "metadata": {},
   "source": [
    "Load pool-specific information"
   ]
  },
  {
   "cell_type": "code",
   "execution_count": null,
   "id": "131d6ba4",
   "metadata": {},
   "outputs": [],
   "source": [
    "(TOK_A, TOK_A_ADR, TOK_B, TOK_B_ADR, FEE, PROTOCOL_STR, PROTOCOL) = ('ETH', ETH, 'USDC', USDC, '005', 'Uniswap V3: USDC 3', '0x88e6a0c2ddd26feeb64f039a2c41296fcb3f5640')"
   ]
  },
  {
   "cell_type": "code",
   "execution_count": null,
   "id": "bd55d987-3a16-4129-be9a-a4ddb75546f0",
   "metadata": {},
   "outputs": [],
   "source": [
    "NFT = '0xc36442b4a4522e871399cd717abdd847ab11fe88' # Uniswap V3: Positions NFT (tracks liquidity position)\n",
    "ROUTER = '0x68b3465833fb72a70ecdf485e0e4c7bd8665fc45|0xe592427a0aece92de3edee1f18e0157c05861564|0xef1c6e67703c7bd7107eed8303fbe6ec2554bf6b' # Uniswap V3: Router 2, facilitates exchanges"
   ]
  },
  {
   "cell_type": "code",
   "execution_count": null,
   "id": "27a49aee",
   "metadata": {},
   "outputs": [],
   "source": [
    "start_date = datetime(2023, 11, 29, 0, 0, 0) # year, month, day, hour, minute, second\n",
    "end_date = datetime(2023, 12, 1, 0, 0, 0)"
   ]
  },
  {
   "cell_type": "markdown",
   "id": "b01412ae-2ea3-4151-8611-81e235c25949",
   "metadata": {},
   "source": [
    "If you change the dates, input your API key and run the following code:"
   ]
  },
  {
   "cell_type": "code",
   "execution_count": null,
   "id": "b4d141bd-9a71-4819-a779-2368d5668272",
   "metadata": {},
   "outputs": [],
   "source": [
    "API_KEY = '' # Input personal Etherscan API Key (free)"
   ]
  },
  {
   "cell_type": "code",
   "execution_count": null,
   "id": "8b1e6529-62ad-469f-a810-e852e4f9c187",
   "metadata": {},
   "outputs": [],
   "source": [
    "start_str = start_date.strftime('%Y-%m-%d')\n",
    "start_unix = int(time.mktime(start_date.timetuple()))\n",
    "\n",
    "my_url = f'https://api.etherscan.io/api?module=block&action=getblocknobytime&timestamp={start_unix}&closest=before&apikey={API_KEY}'\n",
    "\n",
    "response = requests.get(my_url)\n",
    "resp = response.json()\n",
    "start_block = int(resp['result'])\n",
    "\n",
    "end_str = end_date.strftime('%Y-%m-%d')\n",
    "end_unix = int(time.mktime(end_date.timetuple()))\n",
    "\n",
    "my_url = f'https://api.etherscan.io/api?module=block&action=getblocknobytime&timestamp={end_unix}&closest=before&apikey={API_KEY}'\n",
    "\n",
    "response = requests.get(my_url)\n",
    "resp = response.json()\n",
    "end_block = int(resp['result'])\n",
    "print(f'The period from {start_date} to {end_date} encompasses blocks {start_block} to {end_block} ({end_block-start_block} blocks).')"
   ]
  },
  {
   "cell_type": "markdown",
   "id": "aa6a26d2-a3b1-42d3-b4b2-636e1b4f74bc",
   "metadata": {},
   "source": [
    "Load the CSV file containing desired Uniswap transaction data:"
   ]
  },
  {
   "cell_type": "code",
   "execution_count": null,
   "id": "17a82ce2-2d58-4bf7-868c-6941d7e3e1f0",
   "metadata": {},
   "outputs": [],
   "source": [
    "master_string = 'data/pool3_master_18675043_18689338.csv'\n",
    "#master_string = f'data/pool{POOL}_master_{start_block}_{end_block}.csv' # uncomment if changing dates or pool\n",
    "master = pd.read_csv(master_string)\n",
    "master.drop('Unnamed: 0', axis = 1, inplace = True)\n",
    "master['timeStamp'] = pd.to_datetime(master['timeStamp'])\n",
    "master['Exchange Rate'].replace([np.inf, -np.inf], np.nan, inplace=True) # just in case\n",
    "master"
   ]
  },
  {
   "cell_type": "markdown",
   "id": "8440401f-3efe-4ae6-a48f-08ac78ad8f31",
   "metadata": {
    "tags": []
   },
   "source": [
    "## Comparing Uniswap Data with Simulation Results"
   ]
  },
  {
   "cell_type": "code",
   "execution_count": null,
   "id": "6a93e863-26ad-4832-ac56-7b7477f6cf42",
   "metadata": {},
   "outputs": [],
   "source": [
    "# parameters from previous Uniswap data analysis\n",
    "capital_list = np.array([2124, 35786, 1706034])"
   ]
  },
  {
   "cell_type": "code",
   "execution_count": null,
   "id": "ba26c49f-7553-4421-abc4-aff62a3f1508",
   "metadata": {},
   "outputs": [],
   "source": [
    "# parameters shared by all scenarios\n",
    "myT = 24*60 # how many minutes to simulate over\n",
    "myM = 300 # how many Monte Carlo simulations to run"
   ]
  },
  {
   "cell_type": "code",
   "execution_count": null,
   "id": "586a9d46-2040-4f9f-b2b9-97dd7875298f",
   "metadata": {},
   "outputs": [],
   "source": [
    "# load all the necessary functions so they don't clog the notebook\n",
    "%run DEX.py\n",
    "%run dexFunctions.py"
   ]
  },
  {
   "cell_type": "code",
   "execution_count": null,
   "id": "ee6c87d7-5b28-4488-9655-0a6b6a4dde9b",
   "metadata": {},
   "outputs": [],
   "source": [
    "# load pre-saved liquidity distribution for November 29, 2023\n",
    "date = '11292023'\n",
    "curr_price = 2034.53333\n",
    "intervals = np.load(f'data/{date}ticks.npy')\n",
    "tokA = np.load(f'data/{date}tokA.npy')\n",
    "tokB = np.load(f'data/{date}tokB.npy')\n",
    "nu = Pool(pool_type = len(intervals), mkt = curr_price, pool = curr_price, fee = 0.0005)\n",
    "nu.setTicks(intervals)\n",
    "nu.manualLiqSetAll(tokA, tokB)\n",
    "nu.setABTicks()"
   ]
  },
  {
   "cell_type": "code",
   "execution_count": null,
   "id": "080e9268-8c3a-477f-aba5-199ce98939f7",
   "metadata": {},
   "outputs": [],
   "source": [
    "ell_vector = np.zeros(nu.size)\n",
    "for i in range(nu.size):\n",
    "    ell_vector[i] = nu.K(i)\n",
    "nu.plotEll(ell_vector, yLim = 5e7)"
   ]
  },
  {
   "cell_type": "code",
   "execution_count": null,
   "id": "ef93347c-0310-47d6-8038-93a766637deb",
   "metadata": {},
   "outputs": [],
   "source": [
    "nu.plotLiquidity(yLim = [500, 1e6])"
   ]
  },
  {
   "cell_type": "markdown",
   "id": "3ff57dab-9832-40b7-9e7c-424c5085d3e2",
   "metadata": {
    "jp-MarkdownHeadingCollapsed": true,
    "tags": []
   },
   "source": [
    "### N-Player Bayesian Game Scenario"
   ]
  },
  {
   "cell_type": "code",
   "execution_count": null,
   "id": "6db0957f-2b63-41d5-b43b-1c3f78de6a2c",
   "metadata": {},
   "outputs": [],
   "source": [
    "# first, big position matrix\n",
    "actions = np.zeros((int(nu.size*(nu.size+1)/2*3)+1, nu.size))\n",
    "count = 0\n",
    "for i in range(nu.idx):\n",
    "    for j in range(nu.idx+1, nu.size+1):\n",
    "        actions[count, i:j] = 1e2\n",
    "        count +=1\n",
    "print(count)\n",
    "actions = np.transpose(actions[:count])\n",
    "print(actions.shape)"
   ]
  },
  {
   "cell_type": "code",
   "execution_count": null,
   "id": "eefe74a4-567e-4118-8977-6bcbc93b394d",
   "metadata": {},
   "outputs": [],
   "source": [
    "# next, let's find a good distribution for actions (let's use linreg to minimize number of actions):\n",
    "reg_np = LinearRegression(positive=True, fit_intercept = False) # options are: Lasso, Ridge, LinearRegression\n",
    "weight_np = reg_np.fit(actions, ell0).coef_\n",
    "print(f'R-score is {reg_np.score(actions, ell0)}')"
   ]
  },
  {
   "cell_type": "code",
   "execution_count": null,
   "id": "901a8659-83c9-4195-ace5-b4449ec43213",
   "metadata": {},
   "outputs": [],
   "source": [
    "actions2 = actions[:, weight_np > 0]\n",
    "actions2.shape"
   ]
  },
  {
   "cell_type": "code",
   "execution_count": null,
   "id": "a1a622ec-16e7-425a-a686-4214dd9331f0",
   "metadata": {},
   "outputs": [],
   "source": [
    "weights_np2 = weight_np[weight_np > 0]"
   ]
  },
  {
   "cell_type": "code",
   "execution_count": null,
   "id": "2b93f161-0a98-4796-95f8-a3b09d39408e",
   "metadata": {},
   "outputs": [],
   "source": [
    "# Generate fee distributions for current liquidity distribution associated with nu\n",
    "fees0,_ = V(-1, myT, nu, M=myM) # delta = -1\n",
    "fees1,_ = V(0, myT, nu, M=myM) # delta = 0\n",
    "fees2,_ = V(1, myT, nu, M=myM) # delta = 1"
   ]
  },
  {
   "cell_type": "code",
   "execution_count": null,
   "id": "7f442e80-456f-4200-85be-5c97010886ba",
   "metadata": {},
   "outputs": [],
   "source": [
    "# Approximate a CDF for fees that can be extrapolated to determine the fee distribution for any liquidity distribution\n",
    "cdf0 = cdf_approx(fees0, nu) \n",
    "cdf1 = cdf_approx(fees1, nu)\n",
    "cdf2 = cdf_approx(fees2, nu)\n",
    "cdf_stack = np.stack([cdf0, cdf1, cdf2])\n",
    "cdf_stack.shape"
   ]
  },
  {
   "cell_type": "code",
   "execution_count": null,
   "id": "d8a187e5-ca9a-47cc-b1a2-42ea906f621a",
   "metadata": {},
   "outputs": [],
   "source": [
    "# now, draw N samples from actions3 based on weights_np2 and do that many many many times\n",
    "actionsM = 100\n",
    "N = 10 # number of players\n",
    "samples = np.random.choice(a = len(weights_np2), p = weights_np2/np.sum(weights_np2), size = (actionsM, N-1)) # sample the (N-1)-dimensional vector of other players' actions"
   ]
  },
  {
   "cell_type": "code",
   "execution_count": null,
   "id": "07ba150d-3df5-4f62-8cd7-68082b2c11e2",
   "metadata": {},
   "outputs": [],
   "source": [
    "# Now, for each type, we must find the position that optimizes the expected payoff taken over all the samples\n",
    "lambda_list = np.concatenate([np.linspace(0, 0.09, 10), np.arange(1, 3, 0.1)])\n",
    "\n",
    "start = time.time()\n",
    "count = 0\n",
    "responses = np.zeros((3*3*len(lambda_list), 4)) #j1, j2, k, lambda, delta\n",
    "for delta in [-1, 0, 1]:\n",
    "    for k in capital_list*100:\n",
    "        for lam in lambda_list:\n",
    "            agent = agentLP(nu.size, belief = delta, risk = lam, capital = k)\n",
    "            action_idx, v = br_N(agent, actions2, samples, cdf_stack, nu)\n",
    "            responses[count] = [action_idx, k, lam, delta] # action, k, lam, delta, prob\n",
    "            count += 1\n",
    "end = time.time()"
   ]
  },
  {
   "cell_type": "code",
   "execution_count": null,
   "id": "701bd9e5-fa2c-4e6e-b319-a1dcb7f47450",
   "metadata": {},
   "outputs": [],
   "source": [
    "print(f'The calibration took {(end - start)/60} minutes.')"
   ]
  },
  {
   "cell_type": "code",
   "execution_count": null,
   "id": "a46a1c0d-d821-46ce-80d6-8c3ca3dedf3a",
   "metadata": {},
   "outputs": [],
   "source": [
    "# calculate how many different types have each action as their best response\n",
    "action_freq = np.zeros_like(weights_np2)\n",
    "for c in range(count):\n",
    "    idx = int(responses[c, 0])\n",
    "    i = np.argmax(actions2[:,idx] > 0) # first nonzero index\n",
    "    j = nu.size - np.argmax(np.flip(actions2[:,idx]) > 0) # one after last nonzero index\n",
    "    \n",
    "    k = responses[c,1]\n",
    "    unit_cap = k/(j-i)\n",
    "    action_freq[idx] += unit_cap\n",
    "    \n",
    "# calculate the probability to assign to each type theta\n",
    "theta_w = np.zeros(count)\n",
    "new_ell = np.zeros(nu.size)\n",
    "\n",
    "for c in range(count):\n",
    "    idx = int(responses[c, 0])\n",
    "    \n",
    "    i = np.argmax(actions2[:,idx] > 0) # first nonzero index\n",
    "    j = nu.size - np.argmax(np.flip(actions2[:,idx]) > 0) # one after last nonzero index\n",
    "    \n",
    "    k = responses[c,1]\n",
    "    unit_cap = k/(j-i)\n",
    "    \n",
    "    theta_w[c] = weights_np2[idx] * (unit_cap/action_freq[idx]) # assign probability to theta\n",
    "    new_ell += theta_w[c] * actions2[:, idx] # add to liquidity distribution"
   ]
  },
  {
   "cell_type": "code",
   "execution_count": null,
   "id": "eadaf726-c256-4f03-b88c-39db9cdbf1c5",
   "metadata": {},
   "outputs": [],
   "source": [
    "responses = np.concatenate((responses, np.expand_dims(theta_w, axis = 1)), axis = 1)"
   ]
  },
  {
   "cell_type": "code",
   "execution_count": null,
   "id": "879bce70-89e8-4859-86ef-d20568f200a4",
   "metadata": {},
   "outputs": [],
   "source": [
    "selected_actions = actions2[:, action_freq>0]\n",
    "selected_weights = weights_np2[action_freq>0]\n",
    "\n",
    "scaled_weights = selected_weights*np.sum(weights_np2)/np.sum(selected_weights)"
   ]
  },
  {
   "cell_type": "code",
   "execution_count": null,
   "id": "95af9764-2573-4d05-a93a-253afe59e7f1",
   "metadata": {},
   "outputs": [],
   "source": [
    "ell_np = np.matmul(selected_actions, scaled_weights)"
   ]
  },
  {
   "cell_type": "code",
   "execution_count": null,
   "id": "20b0689c-37bb-468c-910f-bba74d251db7",
   "metadata": {},
   "outputs": [],
   "source": [
    "print(f'MAPE is {mape(ell0, ell_np)} and Wasserstein is {wasserstein_distance(nu.ticks[1:], nu.ticks[1:], np.minimum(ell0, 8e5), np.minimum(ell_np, 8e5))}')"
   ]
  },
  {
   "cell_type": "code",
   "execution_count": null,
   "id": "3bf42f51-d6a0-4754-9c28-917db721e218",
   "metadata": {},
   "outputs": [],
   "source": [
    "nu.plotEll(ell_np, yLim = 1e6)"
   ]
  },
  {
   "cell_type": "markdown",
   "id": "8a9c0625-5596-4fcc-b574-982845cea180",
   "metadata": {},
   "source": [
    "Estimate $\\Theta$ for N-player Bayesian Game"
   ]
  },
  {
   "cell_type": "code",
   "execution_count": null,
   "id": "cca00b14-6a30-459d-83fa-45c66ea61cc9",
   "metadata": {},
   "outputs": [],
   "source": [
    "plus_dict = responses[responses[:,-1] > 0]"
   ]
  },
  {
   "cell_type": "code",
   "execution_count": null,
   "id": "a77cfe0e-a2b0-4de0-86fc-e2fb16f64e39",
   "metadata": {},
   "outputs": [],
   "source": [
    "plot_x = np.arange(0, np.amax(lambda_list), 0.1) # list of points that we will plug into density at end\n",
    "\n",
    "plt.close()\n",
    "\n",
    "fig, axs = plt.subplots(3,3)\n",
    "i = 0\n",
    "j = 0\n",
    "joint_prob = np.zeros((3,3))\n",
    "\n",
    "for delta in [-1, 0, 1]:\n",
    "    j = 0\n",
    "    for k in capital_list*100:\n",
    "        selection = plus_dict[(plus_dict[:, 3] == delta)*(plus_dict[:, 1] == k)]\n",
    "        joint_prob[j, i] = np.sum(selection[:, -1])/np.sum(plus_dict[:,-1])\n",
    "        print(f'(k,d) = {(k, delta)} with frequency {len(selection)} and probability {joint_prob[j, i]}')\n",
    "        fit_x = np.repeat(selection[:,2], (selection[:, -1]*1000).astype(int))\n",
    "        if len(fit_x) > 1:\n",
    "            kernel = stats.gaussian_kde(fit_x, bw_method = 0.1/fit_x.std(ddof=1))\n",
    "            dens = kernel(plot_x)\n",
    "            #kern = KernelDensity(kernel='gaussian', bandwidth=0.7).fit(fit_x[:, np.newaxis])\n",
    "            #dens = np.exp(kern.score_samples(plot_x[:, np.newaxis]))\n",
    "            axs[j,i].plot(plot_x, dens)\n",
    "            axs[j,i].set_title(f'k = {int(k/100)*100}, delta = {delta}')\n",
    "        else:\n",
    "            print('too small')\n",
    "        j+= 1\n",
    "    i += 1\n",
    "axs[-1,0].set_xlabel(r'$\\lambda$')\n",
    "axs[-1, 0].set_ylabel('Density')\n",
    "fig.suptitle(r'Estimated density of $\\lambda$ given ($k$, $\\delta$)')\n",
    "plt.show()"
   ]
  },
  {
   "cell_type": "code",
   "execution_count": null,
   "id": "1903aaa6-907e-47e8-a9c0-074484e01926",
   "metadata": {},
   "outputs": [],
   "source": [
    "# Probability distribution over capital endowments\n",
    "np.sum(joint_prob, axis = 1)"
   ]
  },
  {
   "cell_type": "markdown",
   "id": "bec57196-6b88-4206-9148-fec0e3595a98",
   "metadata": {},
   "source": [
    "Now let us try to play a game between agents:"
   ]
  },
  {
   "cell_type": "code",
   "execution_count": null,
   "id": "cd3ffd35-cd0b-42dd-9835-dd39319a61c0",
   "metadata": {},
   "outputs": [],
   "source": [
    "nu_np = nu.copy()"
   ]
  },
  {
   "cell_type": "code",
   "execution_count": null,
   "id": "da9b7adc-5ce9-4411-9874-ecc12df95b71",
   "metadata": {},
   "outputs": [],
   "source": [
    "nu_np.plotLiquidity()"
   ]
  },
  {
   "cell_type": "code",
   "execution_count": null,
   "id": "793b5d02-1807-417f-8e3d-c23765c1ef1e",
   "metadata": {},
   "outputs": [],
   "source": [
    "# agent1 is used in MFG\n",
    "base_risk = 1e-6\n",
    "#risk_list = np.array([base_risk, base_risk, base_risk, -1, base_risk/5, base_risk/5, base_risk, base_risk, base_risk])\n",
    "risk_list = np.array([base_risk, base_risk, base_risk, base_risk/10, base_risk/5, base_risk/5, base_risk/2, base_risk/5, base_risk/2])\n",
    "agent1 = agentLP(nu.size, belief = 1, risk = risk_list[8], capital = capital_list[0]*100)\n",
    "agent2 = agentLP(nu.size, belief = 0, risk = risk_list[0], capital = capital_list[0]*100) \n",
    "agent3 = agentLP(nu.size, belief = 1, risk = risk_list[1], capital = capital_list[0]*100) \n",
    "agent4 = agentLP(nu.size, belief = 1, risk = risk_list[2], capital = capital_list[0]*100) \n",
    "agent5 = agentLP(nu.size, belief = 0, risk = risk_list[3], capital = capital_list[0]*100)\n",
    "agent6 = agentLP(nu.size, belief = 1, risk = risk_list[4], capital = capital_list[0]*100) \n",
    "agent7 = agentLP(nu.size, belief = 1, risk = risk_list[5], capital = capital_list[0]*100)\n",
    "agent8 = agentLP(nu.size, belief = 0, risk = risk_list[6], capital = capital_list[0]*100) \n",
    "agent9 = agentLP(nu.size, belief = 1, risk = risk_list[7], capital = capital_list[0]*100) \n",
    "agent10 = agentLP(nu.size, belief = 1, risk = risk_list[8], capital = capital_list[0]*100)\n",
    "\n",
    "agents = [agent1, agent2, agent3, agent4, agent5, agent6, agent7, agent8, agent9, agent10]"
   ]
  },
  {
   "cell_type": "code",
   "execution_count": null,
   "id": "ee8dc079-9fcc-459c-9645-6537335379dd",
   "metadata": {},
   "outputs": [],
   "source": [
    "for ag in agents:\n",
    "    ag.a = 0\n",
    "    ag.b = nu.size\n",
    "    ag.position = np.ones(nu.size)*ag.unit_liq(0, nu_np.size)\n",
    "ell_init = findEll(nu_np.size, agents)\n",
    "#nu.plotEll(ell_init)"
   ]
  },
  {
   "cell_type": "code",
   "execution_count": null,
   "id": "885e25ee-02d1-4dc4-83fe-c68c56eb2851",
   "metadata": {},
   "outputs": [],
   "source": [
    "nu_np.resetLiquidity(ell_init, nu_np.pool_er)\n",
    "print(nu_np.b_ticks[0], nu_np.b_ticks[-1])"
   ]
  },
  {
   "cell_type": "code",
   "execution_count": null,
   "id": "3525e7c3-c093-420d-9cbb-db790f94ace5",
   "metadata": {},
   "outputs": [],
   "source": [
    "start = time.time()\n",
    "ell_star = equilibrium(nu_np, agents, cdf_stack)\n",
    "duration = (time.time() - start)/60"
   ]
  },
  {
   "cell_type": "code",
   "execution_count": null,
   "id": "2b79bd8f-9e07-435e-ad2e-4b5cffb42278",
   "metadata": {},
   "outputs": [],
   "source": [
    "print(f'Calculating the equilibrium distribution took {duration} minutes.')"
   ]
  },
  {
   "cell_type": "code",
   "execution_count": null,
   "id": "3af6a0d6-820e-423d-9394-141654581a2e",
   "metadata": {},
   "outputs": [],
   "source": [
    "nu_np.resetLiquidity(ell_star, nu.pool_er)\n",
    "nu_np.plotLiquidity(yLim = [500, 1e6])"
   ]
  },
  {
   "cell_type": "code",
   "execution_count": null,
   "id": "24f8f80a-1d40-4e49-b303-112a90f801d9",
   "metadata": {},
   "outputs": [],
   "source": [
    "nu_np.plotEll(ell_star)"
   ]
  },
  {
   "cell_type": "markdown",
   "id": "3c64aa52-028f-4a58-89ce-98a9a45a1003",
   "metadata": {
    "tags": []
   },
   "source": [
    "### MFG Scenario"
   ]
  },
  {
   "cell_type": "markdown",
   "id": "9b8e86f4-2c5d-4470-bb67-e4fe2d9a82fe",
   "metadata": {},
   "source": [
    "Define a function to calibrate the distribution of agents based on a \"real\" distribution:"
   ]
  },
  {
   "cell_type": "code",
   "execution_count": null,
   "id": "f9750212-ec90-495d-ab10-e76df23c6e20",
   "metadata": {},
   "outputs": [],
   "source": [
    "ell0 = nu.tokB + nu.pool_er * nu.tokA\n",
    "start = time.time()\n",
    "fees, positions = calibrateAgents(nu, 0, myT, myM)\n",
    "# fees, positions = calibrateAgents(nu, 0, myT, myM, loadFile = False) # if you want to generate new MC trials\n",
    "print(f'Total time: {(time.time() - start)/60} minutes.')"
   ]
  },
  {
   "cell_type": "code",
   "execution_count": null,
   "id": "3814a032-0739-42f0-82a6-834998a18bab",
   "metadata": {},
   "outputs": [],
   "source": [
    "# make a positions matrix\n",
    "scale_factor = 1e4\n",
    "\n",
    "pos_mat = np.zeros((1, nu.size))\n",
    "pos_mat[0, :] = capital_list[0]/nu.size\n",
    "for i in range(1, positions.shape[0]):\n",
    "    temp = np.zeros((1, nu.size))\n",
    "    start = int(positions[i, 0])\n",
    "    end = int(positions[i, 1])\n",
    "    k = positions[i, 2]\n",
    "    temp[0, start:end] = k/(end - start)\n",
    "    pos_mat = np.concatenate((pos_mat, temp), axis = 0)\n",
    "# new below\n",
    "temp = np.ones((positions.shape[0], 1))*scale_factor\n",
    "pos_mat = np.concatenate((pos_mat, temp), axis = 1)\n",
    "ell_target = np.concatenate((ell0, [800*scale_factor]))\n",
    "pos_mat = np.transpose(pos_mat) # pos_mat.shape = (nu.size, number of types)\n",
    "\n",
    "reg_nnls = Ridge(positive=True, fit_intercept = False) # options are: Lasso, Ridge, LinearRegression\n",
    "weights = reg_nnls.fit(pos_mat, ell_target).coef_\n",
    "positions = np.concatenate((positions, np.expand_dims(weights, axis = 1)), axis = 1)\n",
    "\n",
    "reg_nnls = LinearRegression(positive=True, fit_intercept = False) # options are: Lasso, Ridge, LinearRegression\n",
    "weights = reg_nnls.fit(pos_mat, ell_target).coef_\n",
    "print(f'R-score is {reg_nnls.score(pos_mat, ell_target)}')\n",
    "\n",
    "ell_new = np.matmul(pos_mat, weights)\n",
    "num_agents = ell_new[-1]\n",
    "ell_solved = ell_new[:-1]\n",
    "print(num_agents/scale_factor)"
   ]
  },
  {
   "cell_type": "code",
   "execution_count": null,
   "id": "64822a91-9de8-41d3-8398-faef2ba1108c",
   "metadata": {},
   "outputs": [],
   "source": [
    "print(f'Wasserstein distance is {wasserstein_distance(nu.ticks[1:], nu.ticks[1:], ell0, ell_solved)}')"
   ]
  },
  {
   "cell_type": "code",
   "execution_count": null,
   "id": "9183e2e3-597a-46ee-96d2-3ee4cb82f6cf",
   "metadata": {},
   "outputs": [],
   "source": [
    "nu_temp = nu.copy()\n",
    "nu_temp.resetLiquidity(ell_solved, nu.pool_er)\n",
    "liq_mfg = np.zeros(nu.size)\n",
    "for i in range(nu.size):\n",
    "    liq_mfg[i] = nu_temp.K(i)\n",
    "del nu_temp"
   ]
  },
  {
   "cell_type": "code",
   "execution_count": null,
   "id": "b7681879-cb50-4232-a9b0-9d60b40a5515",
   "metadata": {},
   "outputs": [],
   "source": [
    "nu.plotEll(liq_mfg, yLim = 5e7)"
   ]
  },
  {
   "cell_type": "markdown",
   "id": "0d220cbd-0ee0-4f3c-a5a7-f87a31686267",
   "metadata": {},
   "source": [
    "Estimate $\\Theta$ for MFG scenario"
   ]
  },
  {
   "cell_type": "code",
   "execution_count": null,
   "id": "22a16235-5f46-42c6-bbac-295753ef1005",
   "metadata": {},
   "outputs": [],
   "source": [
    "plus_dict = positions[positions[:,-1] > 0]"
   ]
  },
  {
   "cell_type": "code",
   "execution_count": null,
   "id": "86007388-2331-436d-aab8-71b9e31422f5",
   "metadata": {},
   "outputs": [],
   "source": [
    "plot_x = np.arange(0, 6, 0.1) # list of points that we will plug into density at end\n",
    "\n",
    "plt.close()\n",
    "\n",
    "fig, axs = plt.subplots(3,3)\n",
    "i = 0\n",
    "j = 0\n",
    "joint_prob = np.zeros((3,3))\n",
    "\n",
    "for delta in [-1, 0, 1]:\n",
    "    j = 0\n",
    "    for k in capital_list:\n",
    "        selection = plus_dict[(plus_dict[:, 4] == delta)*(plus_dict[:, 2] == k)]\n",
    "        joint_prob[j, i] = np.sum(selection[:, -1])/np.sum(plus_dict[:,-1])\n",
    "        print(f'(k,d) = {(k, delta)} with frequency {len(selection)} and probability {joint_prob[j, i]}')\n",
    "        fit_x = np.repeat(selection[:,3], (selection[:, -1]*1000).astype(int))\n",
    "        if len(fit_x) > 0:\n",
    "            kernel = stats.gaussian_kde(fit_x, bw_method = 0.25/fit_x.std(ddof=1))\n",
    "            dens = kernel(plot_x)\n",
    "            #kern = KernelDensity(kernel='gaussian', bandwidth=0.7).fit(fit_x[:, np.newaxis])\n",
    "            #dens = np.exp(kern.score_samples(plot_x[:, np.newaxis]))\n",
    "            axs[j,i].plot(plot_x, dens)\n",
    "            axs[j,i].set_title(f'k = {int(k)}, delta = {delta}')\n",
    "        else:\n",
    "            print('too small')\n",
    "        j+= 1\n",
    "    i += 1\n",
    "axs[-1,0].set_xlabel(r'$\\lambda$')\n",
    "axs[-1, 0].set_ylabel('Density')\n",
    "fig.suptitle(r'Estimated density of $\\lambda$ given ($k$, $\\delta$)')\n",
    "plt.show()"
   ]
  },
  {
   "cell_type": "code",
   "execution_count": null,
   "id": "ed9bc70b-ffb9-4cd1-8fb4-1e0c4383966e",
   "metadata": {},
   "outputs": [],
   "source": [
    "# Calculate probability distribution over capital endowments\n",
    "np.sum(joint_prob, axis = 1)"
   ]
  },
  {
   "cell_type": "markdown",
   "id": "c1ec87f6-30eb-4ece-9540-66a905920502",
   "metadata": {
    "tags": []
   },
   "source": [
    "### Stackelberg Scenario"
   ]
  },
  {
   "cell_type": "markdown",
   "id": "047a3be8-394e-4406-ba89-b751bdf38593",
   "metadata": {
    "tags": []
   },
   "source": [
    "#### Find Zeta"
   ]
  },
  {
   "cell_type": "code",
   "execution_count": null,
   "id": "d5a4c799-d334-4676-b7dc-087bd3d3b2ef",
   "metadata": {},
   "outputs": [],
   "source": [
    "weird_bot_1 = '0xa69babef1ca67a37ffaf7a485dfff3382056e78c' # Only does one half of transaction, always through Uniswap router\n",
    "weird_bot_2 = '0xe841e62778d997729cbbe165b029ebb4af8a58ab'\n",
    "attacks = pd.DataFrame({'User':[], TOK_A:[], TOK_B:[], 'Profit':[], 'Perc. Profit':[], 'Start':[], 'End':[], 'Idx1':[], 'Idx2':[], 'Txn Scale': []})\n",
    "curr_df = master\n",
    "i = -1\n",
    "while i < len(curr_df)-3:\n",
    "    i += 1\n",
    "    user1 = [curr_df[f'User{TOK_A}'].iloc[i], curr_df[f'User{TOK_B}'].iloc[i]]\n",
    "    user2 = [curr_df[f'User{TOK_A}'].iloc[i+2], curr_df[f'User{TOK_B}'].iloc[i+2]]\n",
    "    \n",
    "    users = user1 + user2\n",
    "    user_overlap = list(set(user1) & set(user2))\n",
    "    matchFlag = False\n",
    "    \n",
    "    '''\n",
    "    # the user matching process is a little complicated because of certain bot \"paired\" behaviors observed in the data\n",
    "    if len(user_overlap) >=1:\n",
    "        user = user_overlap[0]\n",
    "        matchFlag = True\n",
    "    elif weird_bot_1 in users and weird_bot_2 in users: # weird bot combo matches\n",
    "        user = weird_bot_1\n",
    "        matchFlag = True\n",
    "    \n",
    "    '''\n",
    "    # ok here's the dumb way:\n",
    "    if user1[0] == user2[0] and user1[0] not in ROUTER: # first user matches\n",
    "        user = user1[0]\n",
    "        matchFlag = True\n",
    "    elif user1[1] == user2[1] and user1[1] not in ROUTER: # second user matches\n",
    "        user = user1[1]\n",
    "        matchFlag = True\n",
    "    elif weird_bot_1 in users and weird_bot_2 in users: # weird bot combo matches\n",
    "        user = weird_bot_1\n",
    "        matchFlag = True\n",
    "\n",
    "    idx1 = curr_df.index[i]\n",
    "    idx2 = curr_df.index[i+2]\n",
    "    \n",
    "    start = curr_df['timeStamp'].iloc[i]\n",
    "    end = curr_df['timeStamp'].iloc[i+2]\n",
    "\n",
    "    # if indices are close enough and users match, check transaction sizes\n",
    "    if (idx2 - idx1 == 2) and (matchFlag == True) and ((end - start)//np.timedelta64(1, 's') == 0):\n",
    "        pi_a = curr_df[TOK_A].iloc[i+2] + curr_df[TOK_A].iloc[i]\n",
    "        pi_b = curr_df[TOK_B].iloc[i+2] + curr_df[TOK_B].iloc[i]\n",
    "        scale = np.abs(curr_df[TOK_B].iloc[i]) # just the general size of the transaction\n",
    "\n",
    "        err_a = np.abs(pi_a)/max(np.abs(curr_df[TOK_A].iloc[i]), 1e-4)\n",
    "        err_b = np.abs(pi_b)/max(np.abs(curr_df[TOK_B].iloc[i]), 1e-4)\n",
    "        \n",
    "        flag1 = (curr_df['Transaction Type'].iloc[i] == 0) and (curr_df['Transaction Type'].iloc[i+2] == 0)\n",
    "        flag2 = (curr_df['Transaction Type'].iloc[i] == 1) and (curr_df['Transaction Type'].iloc[i+2] == -1)\n",
    "\n",
    "        if (flag1 or flag2) and (min(err_a, err_b) < 0.05):\n",
    "            botflag = (curr_df['botFlag'].iloc[i] + curr_df['botFlag'].iloc[i+2])\n",
    "            \n",
    "            if curr_df['Transaction Type'].iloc[i] != 0:\n",
    "                attackType = 1 # liquidity-based attack\n",
    "            else:\n",
    "                attackType = 0 # swap-based attack\n",
    "\n",
    "            gas = curr_df['gasFee'].iloc[i] + curr_df['gasFee'].iloc[i+2]\n",
    "\n",
    "            curr_profit = -(pi_a*curr_df['Market Price'].iloc[i] + pi_b) - gas # recall that a negative transaction is going away from Uniswap, aka TO the user\n",
    "            rel = curr_profit/scale\n",
    "\n",
    "            attacks = attacks.append({'User':user, TOK_A:-pi_a, TOK_B:-pi_b, 'Profit':curr_profit, 'Perc. Profit': rel, 'Idx1':idx1, 'Idx2':idx2, 'Start':start, 'End':end, 'Txn Scale': scale, 'botFlag': botflag, 'Type': attackType}, ignore_index = True)\n",
    "\n",
    "print(len(attacks))"
   ]
  },
  {
   "cell_type": "code",
   "execution_count": null,
   "id": "3989f6a2-a5cf-4d88-aa57-ab40cbc2653d",
   "metadata": {},
   "outputs": [],
   "source": [
    "swapBool = master['Transaction Type'] == 0\n",
    "largeBool = np.abs(master[TOK_B]) > 5e5\n",
    "arbitrageBool = master[TOK_B] * (np.array(master['Exchange Rate'])- np.array(master['Market Price'])) < 0\n",
    "attackable = len(master[largeBool*swapBool*arbitrageBool])"
   ]
  },
  {
   "cell_type": "code",
   "execution_count": null,
   "id": "09b1c3e2-229d-4aa1-ba74-58f4e6b406ca",
   "metadata": {},
   "outputs": [],
   "source": [
    "zeta = len(attacks)/attackable\n",
    "print(f'Bots attack {round(zeta, 2)*100}% of attackable transactions.')"
   ]
  },
  {
   "cell_type": "markdown",
   "id": "65bc3603-29b7-4aaf-93a3-5bae77afd1ec",
   "metadata": {},
   "source": [
    "#### Re-run Calibration"
   ]
  },
  {
   "cell_type": "markdown",
   "id": "3f506cd6",
   "metadata": {},
   "source": [
    "Run the MFG calibration etc when the LPs anticipate Bots"
   ]
  },
  {
   "cell_type": "code",
   "execution_count": null,
   "id": "79f2092c-8d19-4aeb-a722-55bff3a7f779",
   "metadata": {},
   "outputs": [],
   "source": [
    "fees2, positions2 = calibrateAgents(nu, zeta, myT, myM)\n",
    "#fees2, positions2 = calibrateAgents(nu, zeta, myT, myM, loadFile = False) # if you want to generate new MC trials"
   ]
  },
  {
   "cell_type": "code",
   "execution_count": null,
   "id": "9cd007e9-4c13-40d9-93c7-03203fe8cbe1",
   "metadata": {},
   "outputs": [],
   "source": [
    "# make a positions matrix\n",
    "scale_factor = 1e4\n",
    "\n",
    "pos_mat = np.zeros((1, nu.size))\n",
    "pos_mat[0, :] = capital_list[0]/nu.size\n",
    "for i in range(1, positions2.shape[0]):\n",
    "    temp = np.zeros((1, nu.size))\n",
    "    start = int(positions2[i, 0])\n",
    "    end = int(positions2[i, 1])\n",
    "    k = positions2[i, 2]\n",
    "    temp[0, start:end] = k/(end - start)\n",
    "    pos_mat = np.concatenate((pos_mat, temp), axis = 0)\n",
    "# new below\n",
    "temp = np.ones((positions2.shape[0], 1))*scale_factor\n",
    "pos_mat = np.concatenate((pos_mat, temp), axis = 1)\n",
    "ell_target = np.concatenate((ell0, [800*scale_factor]))\n",
    "print(ell_target.shape)\n",
    "pos_mat = np.transpose(pos_mat) # pos_mat.shape = (nu.size, number of types)\n",
    "print(pos_mat.shape)\n",
    "\n",
    "reg_sb2 = Ridge(positive=True, fit_intercept = False) # options are: Lasso, Ridge, LinearRegression\n",
    "weights_sb2 = reg_sb2.fit(pos_mat, ell_target).coef_\n",
    "print(np.sum(weights_sb2 > 0))\n",
    "positions2 = np.concatenate((positions2, np.expand_dims(weights_sb2, axis = 1)), axis = 1)\n",
    "\n",
    "reg_sb = LinearRegression(positive=True, fit_intercept = False) # options are: Lasso, Ridge, LinearRegression\n",
    "weights_sb = reg_sb.fit(pos_mat, ell_target).coef_\n",
    "print(f'R-score is {reg_sb.score(pos_mat, ell_target)}')\n",
    "\n",
    "ell_new2 = np.matmul(pos_mat, weights_sb)\n",
    "num_agents = ell_new2[-1]\n",
    "ell_solved2 = ell_new2[:-1]\n",
    "print(num_agents/scale_factor)"
   ]
  },
  {
   "cell_type": "code",
   "execution_count": null,
   "id": "faa9d354-44bf-4c14-9093-faa0b7dab113",
   "metadata": {},
   "outputs": [],
   "source": [
    "print(f'Wasserstein-1 is {wasserstein_distance(nu.ticks[1:], nu.ticks[1:], ell0, ell_solved2)}')"
   ]
  },
  {
   "cell_type": "code",
   "execution_count": null,
   "id": "b17495c7-207f-466f-9fdc-026218e9412b",
   "metadata": {},
   "outputs": [],
   "source": [
    "nu_temp = nu.copy()\n",
    "nu_temp.resetLiquidity(ell_solved2, nu.pool_er)\n",
    "liq_mfg2 = np.zeros(nu.size)\n",
    "for i in range(nu.size):\n",
    "    liq_mfg2[i] = nu_temp.K(i)\n",
    "del nu_temp"
   ]
  },
  {
   "cell_type": "code",
   "execution_count": null,
   "id": "7c3fe7f1-efaf-4701-acf9-44c662c5899a",
   "metadata": {},
   "outputs": [],
   "source": [
    "nu.plotEll(liq_mfg2, yLim = 5e7)"
   ]
  },
  {
   "cell_type": "markdown",
   "id": "a1e96f30-d913-49c0-86c5-3919c77fbdfb",
   "metadata": {},
   "source": [
    "Estimate $\\Theta$ for Stackelberg game"
   ]
  },
  {
   "cell_type": "code",
   "execution_count": null,
   "id": "1a7a8458-6f25-4879-a468-1a728f90c3d2",
   "metadata": {},
   "outputs": [],
   "source": [
    "plus_dict = positions2[positions2[:,-1] > 0]"
   ]
  },
  {
   "cell_type": "code",
   "execution_count": null,
   "id": "13ea2393-a7ac-420b-9426-44d212d496b1",
   "metadata": {},
   "outputs": [],
   "source": [
    "plot_x = np.arange(0, 6, 0.1) # list of points that we will plug into density at end\n",
    "\n",
    "plt.close()\n",
    "\n",
    "fig, axs = plt.subplots(3,3)\n",
    "i = 0\n",
    "j = 0\n",
    "joint_prob = np.zeros((3,3))\n",
    "\n",
    "for delta in [-1, 0, 1]:\n",
    "    j = 0\n",
    "    for k in capital_list:\n",
    "        selection = plus_dict[(plus_dict[:, 4] == delta)*(plus_dict[:, 2] == k)]\n",
    "        joint_prob[j, i] = np.sum(selection[:, -1])/np.sum(plus_dict[:,-1])\n",
    "        print(f'(k,d) = {(k, delta)} with frequency {len(selection)} and probability {joint_prob[j, i]}')\n",
    "        fit_x = np.repeat(selection[:,3], (selection[:, -1]*1000).astype(int))\n",
    "        if len(fit_x) > 0 and len(selection) > 1:\n",
    "            kernel = stats.gaussian_kde(fit_x, bw_method = 0.25/fit_x.std(ddof=1))\n",
    "            dens = kernel(plot_x)\n",
    "            #kern = KernelDensity(kernel='gaussian', bandwidth=0.7).fit(fit_x[:, np.newaxis])\n",
    "            #dens = np.exp(kern.score_samples(plot_x[:, np.newaxis]))\n",
    "            axs[j,i].plot(plot_x, dens)\n",
    "            axs[j,i].set_title(f'k = {int(k)}, delta = {delta}')\n",
    "        else:\n",
    "            print('too small')\n",
    "        j+= 1\n",
    "    i += 1\n",
    "axs[-1,0].set_xlabel(r'$\\lambda$')\n",
    "axs[-1, 0].set_ylabel('Density')\n",
    "fig.suptitle(r'Estimated density of $\\lambda$ given ($k$, $\\delta$)')\n",
    "plt.show()"
   ]
  },
  {
   "cell_type": "code",
   "execution_count": null,
   "id": "f0cadb96-1456-4f47-b4f6-b81fa15762d2",
   "metadata": {},
   "outputs": [],
   "source": [
    "np.sum(joint_prob, axis = 1)"
   ]
  },
  {
   "cell_type": "markdown",
   "id": "b56874d4-aa27-4e25-8ac4-bda24d35d444",
   "metadata": {
    "tags": []
   },
   "source": [
    "### 24 Hour Simulation"
   ]
  },
  {
   "cell_type": "markdown",
   "id": "41d093a0-3199-46f8-98a4-9efd8c60a548",
   "metadata": {},
   "source": [
    "First let us check that we are working with the right initial distribution"
   ]
  },
  {
   "cell_type": "code",
   "execution_count": null,
   "id": "362dc8fc-f8bf-410f-9bf7-1e2f6cac57e9",
   "metadata": {},
   "outputs": [],
   "source": [
    "nu.plotLiquidity()"
   ]
  },
  {
   "cell_type": "markdown",
   "id": "d71b8cf8-d229-4882-be22-8a357b3a5489",
   "metadata": {},
   "source": [
    "Now let's load the distribution for the next day. Format to ensure that both have consistent ticks and sizing."
   ]
  },
  {
   "cell_type": "code",
   "execution_count": null,
   "id": "38256751-124a-40cc-ad04-8d9a532155c0",
   "metadata": {},
   "outputs": [],
   "source": [
    "# load pre-saved liquidity distribution for November 30, 2023\n",
    "date2 = '11302023'\n",
    "curr_price = 2042.6874\n",
    "intervals = np.load(f'data/{date2}ticks.npy')\n",
    "tokA = np.load(f'data/{date2}tokA.npy')\n",
    "tokB = np.load(f'data/{date2}tokB.npy')\n",
    "nu_next = Pool(pool_type = len(intervals), mkt = curr_price, pool = curr_price, fee = 0.0005)\n",
    "nu_next.setTicks(intervals)\n",
    "nu_next.manualLiqSetAll(tokA, tokB)\n",
    "nu_next.setABTicks()"
   ]
  },
  {
   "cell_type": "code",
   "execution_count": null,
   "id": "249d289a-ad8f-4913-91c6-4426ec5f16da",
   "metadata": {},
   "outputs": [],
   "source": [
    "ell_next = np.zeros(nu_next.size)\n",
    "for i in range(nu_next.size):\n",
    "    ell_next[i] = nu_next.K(i)\n",
    "nu_next.plotEll(ell_next, yLim = 5e7)"
   ]
  },
  {
   "cell_type": "code",
   "execution_count": null,
   "id": "e09cda7d-20c2-494d-a12a-15aa54925529",
   "metadata": {},
   "outputs": [],
   "source": [
    "start_tick = round(math.log((1/nu.ticks[-1])*(1e12), 1.0001)/10)*10\n",
    "start_tick2 = round(math.log((1/nu_next.ticks[-1])*(1e12), 1.0001)/10)*10\n",
    "\n",
    "hang = int((start_tick - start_tick2)/10)\n",
    "\n",
    "nu_next.ticks = nu_next.ticks[:-hang]\n",
    "nu_next.tokA = nu_next.tokA[:-hang]\n",
    "nu_next.tokB = nu_next.tokB[:-hang]\n",
    "nu_next.a_ticks = nu_next.a_ticks[:-hang]\n",
    "nu_next.b_ticks = nu_next.b_ticks[:-hang]\n",
    "nu_next.size = nu_next.size - hang"
   ]
  },
  {
   "cell_type": "code",
   "execution_count": null,
   "id": "cb0176b8-890c-4373-b71b-a6f94a1b6b9b",
   "metadata": {},
   "outputs": [],
   "source": [
    "future_ell = nu_next.tokA * nu_next.mkt_er + nu_next.tokB"
   ]
  },
  {
   "cell_type": "code",
   "execution_count": null,
   "id": "563629d4-1997-4b5c-9fd0-40e727a2abbc",
   "metadata": {},
   "outputs": [],
   "source": [
    "# change based on how you want to initialize the liquidity at time 0 (November 29)\n",
    "#curr_ell = ell_solved # simple MFG\n",
    "#z = 0 # simple MFG\n",
    "\n",
    "curr_ell = ell_solved2 # Stackelberg\n",
    "z = zeta # Stackelberg"
   ]
  },
  {
   "cell_type": "code",
   "execution_count": null,
   "id": "d1737b6f-8fa7-4b74-8d55-0aac64b5747f",
   "metadata": {},
   "outputs": [],
   "source": [
    "nu_trunc = nu.copy()\n",
    "nu_trunc.resetLiquidity(curr_ell, nu.pool_er)\n",
    "\n",
    "nu_trunc.ticks = nu_trunc.ticks[hang:]\n",
    "nu_trunc.tokA = nu_trunc.tokA[hang:]\n",
    "nu_trunc.tokB = nu_trunc.tokB[hang:]\n",
    "nu_trunc.a_ticks = nu_trunc.a_ticks[hang:]\n",
    "nu_trunc.b_ticks = nu_trunc.b_ticks[hang:]\n",
    "nu_trunc.size = nu_trunc.size - hang\n",
    "nu_trunc.idx = nu_trunc.idx - hang\n",
    "\n",
    "fees_cut = fees[:, :, hang:]\n",
    "\n",
    "np.mean(nu_trunc.ticks - nu_next.ticks)"
   ]
  },
  {
   "cell_type": "code",
   "execution_count": null,
   "id": "4593e0c5-1799-45f7-8d68-13b747d7458f",
   "metadata": {},
   "outputs": [],
   "source": [
    "start_idx = master.index[(master['Exchange Rate'] < nu.pool_er+1)*(master['Exchange Rate'] > nu.pool_er-1)][0]"
   ]
  },
  {
   "cell_type": "code",
   "execution_count": null,
   "id": "1104d181-9da9-4804-a8f4-6c8c75624d93",
   "metadata": {},
   "outputs": [],
   "source": [
    "end_idx = master.index[(master['Exchange Rate'] < nu_next.pool_er+1)*(master['Exchange Rate'] > nu_next.pool_er-1)][-1]"
   ]
  },
  {
   "cell_type": "code",
   "execution_count": null,
   "id": "942a3f5c-2322-498a-aaa3-5d78547cdd33",
   "metadata": {},
   "outputs": [],
   "source": [
    "comp_df = master[start_idx:end_idx]\n",
    "comp_df = comp_df[comp_df['Transaction Type'] == 0]\n",
    "comp_df"
   ]
  },
  {
   "cell_type": "markdown",
   "id": "6b13452c-ca4d-474c-904c-ae06ededf0bf",
   "metadata": {},
   "source": [
    "Okay, let's simulate:"
   ]
  },
  {
   "cell_type": "code",
   "execution_count": null,
   "id": "6f443415-0720-4478-976b-6bb9ddb05d21",
   "metadata": {},
   "outputs": [],
   "source": [
    "nu2 = nu_trunc.copy()\n",
    "\n",
    "swapper = Swapper(swapper_type = 4, swap_max = 11.764, swap_min = 7.446)\n",
    "#swapper = Swapper(swapper_type = 6, swap_max = mvkernel0)\n",
    "\n",
    "swaps = []\n",
    "pool = []\n",
    "market = []\n",
    "times = []\n",
    "accuracy = 0\n",
    "curr_time = comp_df['timeStamp'].iloc[0]\n",
    "\n",
    "bot_capital = 5e6\n",
    "\n",
    "bot_pi = 0\n",
    "lp_pi = 0\n",
    "\n",
    "rng = np.random.default_rng()\n",
    "count = 0\n",
    "print(f'zeta = {z}')\n",
    "\n",
    "while count < len(comp_df) and curr_time <= comp_df['timeStamp'].iloc[-1]:\n",
    "    if count % 100 == 0: print(count)\n",
    "    \n",
    "    curr_mkt = comp_df['Market Price'].iloc[count]\n",
    "    if curr_mkt < 0:\n",
    "        print('weird')\n",
    "    nu2.setMktER(curr_mkt)\n",
    "    xi = swapper.generateSwaps(nu2.pool_er - nu2.mkt_er, 1)[0]\n",
    "    \n",
    "    swaps.append(xi)\n",
    "    times.append(curr_time)\n",
    "    market.append(nu2.mkt_er)\n",
    "    pool.append(nu2.pool_er)\n",
    "    \n",
    "    scale = bot_capital/(nu2.tokA[nu2.idx]*nu2.pool_er + nu2.tokB[nu2.idx])\n",
    "    portion = bot_capital/(nu2.tokA[nu2.idx]*nu2.pool_er + nu2.tokB[nu2.idx] + bot_capital)\n",
    "    \n",
    "    threshold = botThreshold(nu2, nu2.K(nu2.idx) * scale)\n",
    "    flag = np.random.binomial(1, z)\n",
    "    \n",
    "    if flag == 0 or (xi > threshold[0] and xi < threshold[1]): # no bot attack = swap procedes as usual\n",
    "        nu2.swap(xi)\n",
    "        lp_pi += nu.fee * np.abs(xi)\n",
    "    else:\n",
    "        print(f'bot attack: {round(portion, 4)*100}%')\n",
    "        bot_pi += nu.fee*np.abs(xi)*portion\n",
    "        lp_pi += nu.fee*np.abs(xi)*(1-portion)\n",
    "        \n",
    "    count += 1\n",
    "    if count < len(comp_df): curr_time = comp_df['timeStamp'].iloc[count]\n",
    "    \n",
    "print(accuracy/count)"
   ]
  },
  {
   "cell_type": "code",
   "execution_count": null,
   "id": "552a23af-0055-4bb5-95f2-cd18d75c9795",
   "metadata": {},
   "outputs": [],
   "source": [
    "print(f'Bot profit is {bot_pi} and LP profit is {lp_pi}')"
   ]
  },
  {
   "cell_type": "code",
   "execution_count": null,
   "id": "1c092d61-a475-4b74-b485-594b0c886b24",
   "metadata": {},
   "outputs": [],
   "source": [
    "simEll = nu2.tokA * nu2.mkt_er + nu2.tokB"
   ]
  },
  {
   "cell_type": "code",
   "execution_count": null,
   "id": "013c7dd8-ff36-46c0-81f1-6d76359cdf45",
   "metadata": {},
   "outputs": [],
   "source": [
    "print(f'MAPE for price evolution is {mape(pool, market)}') \n",
    "print(f'MSE for price evolution is {mse(pool, market)}') "
   ]
  },
  {
   "cell_type": "code",
   "execution_count": null,
   "id": "5983902b-5ed3-4927-8f06-bc286329cae0",
   "metadata": {},
   "outputs": [],
   "source": [
    "print(f'Original MFG Wasserstein-1 is {wasserstein_distance(nu.ticks[1:], nu.ticks[1:], ell0, ell_solved)}')\n",
    "print(f'Original Stackelberg Wasserstein-1 is {wasserstein_distance(nu.ticks[1:], nu.ticks[1:], ell0, ell_solved2)}')"
   ]
  },
  {
   "cell_type": "code",
   "execution_count": null,
   "id": "817ab186-74b3-4be7-a313-50a2c1b0ef9b",
   "metadata": {},
   "outputs": [],
   "source": [
    "print(f'24-hour ahead Wasserstein-1 error is {wasserstein_distance(nu2.ticks[1:], nu2.ticks[1:], future_ell, simEll)}')"
   ]
  },
  {
   "cell_type": "code",
   "execution_count": null,
   "id": "a0572a1d-057b-4469-b639-a8cb7b333a0e",
   "metadata": {},
   "outputs": [],
   "source": [
    "print(f'24-hour ahead Wasserstein-1 error is {wasserstein_distance(nu2.ticks[1:], nu2.ticks[1:], future_ell, simEll)}')"
   ]
  },
  {
   "cell_type": "code",
   "execution_count": null,
   "id": "3149ac5b-94f0-4273-8ec6-59d3c5a9eaa3",
   "metadata": {},
   "outputs": [],
   "source": [
    "plt.close()\n",
    "plt.plot(comp_df['timeStamp'], comp_df['Exchange Rate'], label = 'Real Pool Rate', color = 'blue', linewidth=1)\n",
    "plt.plot(comp_df['timeStamp'], comp_df['Market Price'], label = 'Market Rate', color = 'black', linewidth=1)\n",
    "plt.plot(times, pool, label = 'Simulated Pool Rate', color = 'red', linewidth=1.5)\n",
    "plt.xlabel('Time')\n",
    "plt.ylabel('USDC/ETH')\n",
    "plt.title('Simulated Exchange Rate Dynamics')\n",
    "plt.legend()\n",
    "plt.show()"
   ]
  },
  {
   "cell_type": "code",
   "execution_count": null,
   "id": "6c429abe-381c-465c-bd9f-20e5365d0634",
   "metadata": {},
   "outputs": [],
   "source": [
    "nu2.resetLiquidity(simEll, nu2.pool_er)\n",
    "simliq = np.zeros(nu2.size)\n",
    "for i in range(nu2.size):\n",
    "    simliq[i] = nu2.K(i)"
   ]
  },
  {
   "cell_type": "code",
   "execution_count": null,
   "id": "518c5e44-2837-4091-a33d-6b492b587aea",
   "metadata": {},
   "outputs": [],
   "source": [
    "nu2.plotEll(simliq, yLim = 5e7)"
   ]
  },
  {
   "cell_type": "code",
   "execution_count": null,
   "id": "2b342ab3-14c5-4674-a97c-1503298366fe",
   "metadata": {},
   "outputs": [],
   "source": []
  }
 ],
 "metadata": {
  "kernelspec": {
   "display_name": "Python 3 (ipykernel)",
   "language": "python",
   "name": "python3"
  },
  "language_info": {
   "codemirror_mode": {
    "name": "ipython",
    "version": 3
   },
   "file_extension": ".py",
   "mimetype": "text/x-python",
   "name": "python",
   "nbconvert_exporter": "python",
   "pygments_lexer": "ipython3",
   "version": "3.9.7"
  },
  "toc-autonumbering": false,
  "toc-showcode": false,
  "toc-showmarkdowntxt": false
 },
 "nbformat": 4,
 "nbformat_minor": 5
}
