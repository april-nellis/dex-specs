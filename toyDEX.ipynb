{
 "cells": [
  {
   "cell_type": "markdown",
   "id": "914a87cc",
   "metadata": {},
   "source": [
    "# CPMM Demo: A Toy Liquidity Pool"
   ]
  },
  {
   "cell_type": "markdown",
   "id": "d52dd1aa",
   "metadata": {},
   "source": [
    "Owner: April Nellis\n",
    "\n",
    "Companion code to [*DEX Specs: A Mean-Field Approach to DeFi Cryptocurrency Exchanges*](https://arxiv.org/abs/2404.09090)"
   ]
  },
  {
   "cell_type": "code",
   "execution_count": null,
   "id": "dddd6104",
   "metadata": {},
   "outputs": [],
   "source": [
    "import numpy as np\n",
    "import pandas as pd\n",
    "import math\n",
    "import itertools\n",
    "pd.options.mode.chained_assignment = None  # default='warn'\n",
    "import os.path\n",
    "from datetime import datetime\n",
    "import time\n",
    "import requests\n",
    "import statsmodels.api as sm\n",
    "import scipy.stats as stats\n",
    "import scipy.optimize as optimize\n",
    "from IPython.display import Image\n",
    "from coinmetrics.api_client import CoinMetricsClient\n",
    "import matplotlib.pyplot as plt\n",
    "import matplotlib.cm as cm\n",
    "import matplotlib.animation as animation\n",
    "import import_ipynb\n",
    "from IPython.display import IFrame\n",
    "import tensorflow as tf\n",
    "from tensorflow import keras\n",
    "from sklearn.model_selection import train_test_split\n",
    "\n",
    "# Just disables the annoying warning, doesn't enable AVX/FMA\n",
    "import os\n",
    "os.environ['TF_CPP_MIN_LOG_LEVEL'] = '2'\n",
    "\n",
    "%matplotlib widget\n",
    "\n",
    "plt.rcParams[\"figure.autolayout\"] = True"
   ]
  },
  {
   "cell_type": "code",
   "execution_count": null,
   "id": "83c22f3c-2de5-4c78-b92d-1ffb1beb206a",
   "metadata": {},
   "outputs": [],
   "source": [
    "plt.rcParams[\"figure.figsize\"] = [5,5]"
   ]
  },
  {
   "cell_type": "markdown",
   "id": "f2e92acb-5553-426f-889d-2be644661a30",
   "metadata": {
    "tags": []
   },
   "source": [
    "## Defining The Structure of the Simulation"
   ]
  },
  {
   "cell_type": "code",
   "execution_count": null,
   "id": "a731a382-24f8-492c-8b8a-f017287d103f",
   "metadata": {},
   "outputs": [],
   "source": [
    "%run DEX.py"
   ]
  },
  {
   "cell_type": "markdown",
   "id": "b97bb934-5d58-4bde-a4fe-94dbb3949560",
   "metadata": {
    "tags": []
   },
   "source": [
    "#### Simple demonstration of some features"
   ]
  },
  {
   "cell_type": "markdown",
   "id": "839288a1-6530-48a2-9e45-1a08b7f705fc",
   "metadata": {},
   "source": [
    "A simple demonstration of setting and updating liquidity in the pool."
   ]
  },
  {
   "cell_type": "code",
   "execution_count": null,
   "id": "9a3d1a1a-ba97-40fd-a290-149b59290769",
   "metadata": {},
   "outputs": [],
   "source": [
    "liq = Pool(pool_type = 1, mkt =1.5, pool =1.5, fee = 0.01)\n",
    "\n",
    "unif = np.ones(liq.size)*10 # uniform value in terms of 1.6 B/A\n",
    "equalL = np.array([10, 10, 9.9, 8.79, 7.62, 20/3]) # uniform ell\n",
    "variety = np.array([7, 9, 11, 10, 8, 6]) # nice rounded plot\n",
    "\n",
    "liq.resetLiquidity(variety, 1.6)\n",
    "liq.printDetails()"
   ]
  },
  {
   "cell_type": "code",
   "execution_count": null,
   "id": "37c31cd6-3a09-4c40-966a-f77841d566d2",
   "metadata": {},
   "outputs": [],
   "source": [
    "liq.plotLiquidity(yLim = [8, 12])"
   ]
  },
  {
   "cell_type": "code",
   "execution_count": null,
   "id": "c0864aab-c376-44e3-a4fc-cad4cbe32747",
   "metadata": {},
   "outputs": [],
   "source": [
    "ell = np.zeros(liq.size)\n",
    "for i in range(liq.size):\n",
    "    ell[i] = liq.K(i)\n",
    "print(ell)\n",
    "liq.plotEll(ell, yLim = 150)"
   ]
  },
  {
   "cell_type": "code",
   "execution_count": null,
   "id": "571ed540-e115-401c-97cb-6aa00f4a031f",
   "metadata": {},
   "outputs": [],
   "source": [
    "a_list, b_list = liq.calculatePsi()"
   ]
  },
  {
   "cell_type": "code",
   "execution_count": null,
   "id": "04e8794a-3b2a-4dc9-bdb7-e0e98f6fcbeb",
   "metadata": {},
   "outputs": [],
   "source": [
    "oldA = np.copy(liq.tokA)\n",
    "oldB = np.copy(liq.tokB)"
   ]
  },
  {
   "cell_type": "markdown",
   "id": "8655c0d9-18a8-489e-91a0-c661d02d82a3",
   "metadata": {},
   "source": [
    "### Demonstration of Liquidity Addition"
   ]
  },
  {
   "cell_type": "code",
   "execution_count": null,
   "id": "0ee8c6b9-f4c2-4113-bf1a-8c7f1eb9f4f5",
   "metadata": {},
   "outputs": [],
   "source": [
    "liq_add = 10 # we want to add one unit of liquidity to a few ticks"
   ]
  },
  {
   "cell_type": "code",
   "execution_count": null,
   "id": "560616fa-c1e8-4cba-992b-8a71c4b842ee",
   "metadata": {},
   "outputs": [],
   "source": [
    "def liq_to_capital(u, idx, aNu): # units of liquidity to add, tick to add to, liquidity pool\n",
    "    if idx == aNu.idx:\n",
    "        return u * aNu.mkt_er * (1/math.sqrt(aNu.pool_er) - 1/math.sqrt(aNu.ticks[idx+1])) + u*(math.sqrt(aNu.pool_er) - math.sqrt(aNu.ticks[idx]))\n",
    "    elif idx < aNu.idx:\n",
    "        return u*(math.sqrt(aNu.ticks[idx+1]) - math.sqrt(aNu.ticks[idx]))\n",
    "    else:\n",
    "        return u*aNu.mkt_er*(1/math.sqrt(aNu.ticks[idx]) - 1/math.sqrt(aNu.ticks[idx+1]))"
   ]
  },
  {
   "cell_type": "code",
   "execution_count": null,
   "id": "86ccf699-ade9-4432-885b-8d90503209da",
   "metadata": {},
   "outputs": [],
   "source": [
    "liq.updateLiq(1, liq_to_capital(liq_add, 1, liq))\n",
    "liq.updateLiq(2, liq_to_capital(liq_add, 2, liq))\n",
    "liq.updateLiq(3, liq_to_capital(liq_add, 3, liq))\n",
    "ell2 = np.zeros(liq.size)\n",
    "for i in range(liq.size):\n",
    "    ell2[i] = liq.K(i)"
   ]
  },
  {
   "cell_type": "code",
   "execution_count": null,
   "id": "0a360701-6b06-4c1e-bd20-5c2494c64e27",
   "metadata": {},
   "outputs": [],
   "source": [
    "ell2 - ell"
   ]
  },
  {
   "cell_type": "code",
   "execution_count": null,
   "id": "fd620994-0c5b-467c-9cf4-cb664d40f896",
   "metadata": {},
   "outputs": [],
   "source": [
    "plt.close()\n",
    "curr_er = liq.idx + (liq.pool_er - liq.ticks[liq.idx])/(liq.ticks[liq.idx + 1] - liq.ticks[liq.idx]) - 1\n",
    "\n",
    "plt.bar(np.arange(liq.size), ell, align = 'edge', tick_label = None, width = -0.97, label = 'Original Liquidity')\n",
    "plt.bar(np.arange(liq.size), ell2-ell, align = 'edge', tick_label = None, width = -0.97, bottom = ell, label = 'Added Liquidity')\n",
    "plt.xticks(ticks = np.arange(-1, liq.size), labels = liq.ticks, rotation = 45, ha = 'right')\n",
    "plt.axvline(curr_er, color = 'red')\n",
    "plt.title('Liquidity Distribution')\n",
    "plt.xlabel('Exchange Rate')\n",
    "plt.ylabel('Liquidity')\n",
    "plt.legend()\n",
    "plt.ylim(top = 150, bottom = 0)\n",
    "plt.show()"
   ]
  },
  {
   "cell_type": "code",
   "execution_count": null,
   "id": "783fc1cf-337d-4687-8aa6-f00c9fbab844",
   "metadata": {},
   "outputs": [],
   "source": [
    "plt.close()\n",
    "fig, axs = plt.subplots(2)\n",
    "curr_er = liq.idx + (liq.pool_er - liq.ticks[liq.idx])/(liq.ticks[liq.idx + 1] - liq.ticks[liq.idx]) - 1\n",
    "\n",
    "axs[0].bar(np.arange(liq.size), oldA, align = 'edge', tick_label = None, width = -0.97, label = 'Original Token A', alpha = 0.5)\n",
    "axs[0].bar(np.arange(liq.size), liq.tokA - oldA, align = 'edge', tick_label = None, width = -0.97, bottom = oldA, label = 'Added Token A', alpha = 0.5)\n",
    "axs[0].axvline(curr_er, color = 'red')\n",
    "axs[0].tick_params(axis='x', which='both', bottom=False, top=False, labelbottom=False)\n",
    "axs[0].set_title('Token A Reserves (Increased)')\n",
    "axs[0].set_ylabel('Quantity')\n",
    "axs[0].set_ylim(top =8, bottom = 0)\n",
    "\n",
    "axs[1].bar(np.arange(liq.size), oldB, align = 'edge', tick_label = None, width = -0.97, label = 'Original Token B', alpha = 0.5)\n",
    "axs[1].bar(np.arange(liq.size), liq.tokB - oldB, align = 'edge', tick_label = None, width = -0.97, bottom = oldB, label = 'Removed Token B', alpha = 0.5)\n",
    "axs[1].set_xticks(np.arange(-1, liq.size))\n",
    "axs[1].set_xticklabels(liq.ticks, rotation = 45, ha = 'right')\n",
    "axs[1].axvline(curr_er, color = 'red')\n",
    "axs[1].set_title('Token B Reserves (Decreased)')\n",
    "axs[1].set_xlabel('Exchange Rate')\n",
    "axs[1].set_ylabel('Quantity')\n",
    "axs[1].set_ylim(top = 12, bottom = 0)\n",
    "\n",
    "fig.suptitle('Token Distributions after Liquidity Addition')\n",
    "plt.show()"
   ]
  },
  {
   "cell_type": "code",
   "execution_count": null,
   "id": "be2e2b3d-53ed-4969-9814-5dbf686f6784",
   "metadata": {},
   "outputs": [],
   "source": [
    "liq.printDetails()"
   ]
  },
  {
   "cell_type": "markdown",
   "id": "7aa0eb1d-4183-40ce-9ad9-c9a1ef7c1478",
   "metadata": {},
   "source": [
    "### Demonstration of Swap"
   ]
  },
  {
   "cell_type": "code",
   "execution_count": null,
   "id": "723d3559-4c1c-49ce-a77d-f09d60b439ba",
   "metadata": {},
   "outputs": [],
   "source": [
    "liq.resetLiquidity(variety, 1.6)"
   ]
  },
  {
   "cell_type": "code",
   "execution_count": null,
   "id": "2055e86c-2cfb-469c-983e-b5e99eb2cac0",
   "metadata": {},
   "outputs": [],
   "source": [
    "liq.swap(-10)"
   ]
  },
  {
   "cell_type": "code",
   "execution_count": null,
   "id": "a5483d73-adea-40fe-a9f6-8172d3a9439d",
   "metadata": {},
   "outputs": [],
   "source": [
    "plt.close()\n",
    "fig, axs = plt.subplots(2)\n",
    "curr_er = liq.idx + (liq.pool_er - liq.ticks[liq.idx])/(liq.ticks[liq.idx + 1] - liq.ticks[liq.idx]) - 1\n",
    "\n",
    "axs[0].bar(np.arange(liq.size), oldA, align = 'edge', tick_label = None, width = -0.97, label = 'Original Token A')\n",
    "axs[0].bar(np.arange(liq.size), liq.tokA - oldA, align = 'edge', tick_label = None, width = -0.97, bottom = oldA, label = 'Added Token A')\n",
    "axs[0].axvline(curr_er, color = 'red')\n",
    "axs[0].tick_params(axis='x', which='both', bottom=False, top=False, labelbottom=False)\n",
    "axs[0].set_title('Token A Reserves')\n",
    "axs[0].set_ylabel('Quantity')\n",
    "axs[0].set_ylim(top =8, bottom = 0)\n",
    "axs[0].legend()\n",
    "\n",
    "axs[1].bar(np.arange(liq.size), oldB, align = 'edge', tick_label = None, width = -0.97, label = 'Original Token B')\n",
    "axs[1].bar(np.arange(liq.size), liq.tokB - oldB, align = 'edge', tick_label = None, width = -0.97, bottom = oldB, label = 'Added Token B')\n",
    "axs[1].set_xticks(np.arange(-1, liq.size))\n",
    "axs[1].set_xticklabels(liq.ticks, rotation = 45, ha = 'right')\n",
    "axs[1].axvline(curr_er, color = 'red')\n",
    "axs[1].set_title('Token B Reserves')\n",
    "axs[1].set_xlabel('Exchange Rate')\n",
    "axs[1].set_ylabel('Quantity')\n",
    "axs[1].set_ylim(top = 12, bottom = 0)\n",
    "axs[1].legend()\n",
    "\n",
    "fig.suptitle('Token Distributions after Liquidity Addition')\n",
    "plt.show()"
   ]
  },
  {
   "cell_type": "code",
   "execution_count": null,
   "id": "58cd0976-c316-4f44-bbfd-f22f9a0c7e5d",
   "metadata": {},
   "outputs": [],
   "source": [
    "liq.printDetails()"
   ]
  },
  {
   "cell_type": "markdown",
   "id": "d7df78f7-2911-489b-ac3e-23e232b4e1b3",
   "metadata": {},
   "source": [
    "An example of how to generate random swap arrivals in the market and a visualization of them."
   ]
  },
  {
   "cell_type": "code",
   "execution_count": null,
   "id": "7f7a2259-35d6-4eff-ab81-3f44a2027c74",
   "metadata": {},
   "outputs": [],
   "source": [
    "swapper = Swapper(swapper_type = 1, swap_max = 10, swap_min = -10)\n",
    "T = 10\n",
    "time = np.arange(T)\n",
    "swaps = np.zeros(T)\n",
    "for t in range(T):\n",
    "    x = swapper.generateSwaps((liq.mkt_er - liq.pool_er), 1)\n",
    "    swaps[t] = x"
   ]
  },
  {
   "cell_type": "code",
   "execution_count": null,
   "id": "f7d225a4-5f58-4be9-9e88-dc1b70d84a31",
   "metadata": {},
   "outputs": [],
   "source": [
    "plt.close()\n",
    "plt.stem(time, swaps)\n",
    "plt.title('Exogenous Swap Transactions')\n",
    "plt.xlabel('Time')\n",
    "plt.ylabel('Swap Size')\n",
    "plt.show()"
   ]
  },
  {
   "cell_type": "markdown",
   "id": "9476acd0-b49e-4ba3-969d-94b202e94e89",
   "metadata": {
    "jp-MarkdownHeadingCollapsed": true,
    "tags": []
   },
   "source": [
    "### How do swaps and liquidity adjustments affect $\\psi(x, \\ell)$?"
   ]
  },
  {
   "cell_type": "markdown",
   "id": "c0cfb9ec-c539-4a8a-8d5c-ebd360c7418a",
   "metadata": {},
   "source": [
    "Showing that swaps do not change the shape of the exchange curve $\\psi(x, v)$ (but can shift it, depending on how the calculations are done), for any given starting liquidity distribution."
   ]
  },
  {
   "cell_type": "code",
   "execution_count": null,
   "id": "eb3507bc-92d3-4d70-8fce-d33779fa20e9",
   "metadata": {},
   "outputs": [],
   "source": [
    "nu = Pool(pool_type = 1, mkt =1.5, pool =1.5, fee = 0.01)\n",
    "q = np.ones(nu.size)*10\n",
    "for i in range(nu.size):\n",
    "    nu.updateLiq(i, q[i])\n",
    "nu.printDetails()\n",
    "a_list, b_list = nu.calculatePsi()"
   ]
  },
  {
   "cell_type": "code",
   "execution_count": null,
   "id": "bc4e263f-2ac7-430f-abf2-70972fb29be8",
   "metadata": {},
   "outputs": [],
   "source": [
    "A, r = nu.swap(10)\n",
    "print(f'Swapped 10 of token B for {-A} of token A.')\n",
    "nu.printDetails()\n",
    "a_list2, b_list2 = nu.calculatePsi()"
   ]
  },
  {
   "cell_type": "code",
   "execution_count": null,
   "id": "7fc2ebad-f27e-49ec-be0e-3f6282bd0ffc",
   "metadata": {},
   "outputs": [],
   "source": [
    "# shift so they line up\n",
    "print(np.amax(a_list2) - np.amax(a_list))\n",
    "print(np.amax(b_list2) - np.amax(b_list))\n",
    "a_list2 = np.sort(a_list2)-np.amax(a_list2) + np.amax(a_list)\n",
    "b_list2 = np.sort(b_list2)-np.amax(b_list2) + np.amax(b_list)"
   ]
  },
  {
   "cell_type": "code",
   "execution_count": null,
   "id": "f9f57217-d7cf-427c-b32f-1895dff0e60c",
   "metadata": {},
   "outputs": [],
   "source": [
    "plt.close()\n",
    "plt.plot(np.sort(b_list), np.sort(a_list), label = 'original')\n",
    "plt.plot(b_list2, a_list2, label = 'shifted after swap')\n",
    "plt.legend()\n",
    "plt.show()"
   ]
  },
  {
   "cell_type": "markdown",
   "id": "4c30e665-962c-40d9-adeb-63b8be2f2fd7",
   "metadata": {},
   "source": [
    "Compare the range and concavity of two graphs of $\\psi$ for different initial deposits $v$."
   ]
  },
  {
   "cell_type": "code",
   "execution_count": null,
   "id": "b789b6b5-1ba6-4c24-8809-3b7965a2950d",
   "metadata": {},
   "outputs": [],
   "source": [
    "nu = Pool(pool_type = 1, mkt =1.5, pool =1.5, fee = 0.01)\n",
    "q = np.ones(nu.size)*10\n",
    "q[3]= 15 # increase the liquidity in one interval\n",
    "for i in range(nu.size):\n",
    "    nu.updateLiq(i, q[i])\n",
    "nu.printDetails()\n",
    "a_list3, b_list3 = nu.calculatePsi()"
   ]
  },
  {
   "cell_type": "code",
   "execution_count": null,
   "id": "48c9c736-ae90-432c-b551-ee6152a3fb2e",
   "metadata": {},
   "outputs": [],
   "source": [
    "print(f'The range of the uniformly distributed liquidity is {np.amin(a_list)} to {np.amax(a_list)}.')\n",
    "print(f'The range of the concentrated liquidity is {np.amin(a_list3)} to {np.amax(a_list3)}.')"
   ]
  },
  {
   "cell_type": "markdown",
   "id": "d7281100-5f2b-458d-976f-8309fed7d35e",
   "metadata": {},
   "source": [
    "Observe that the graph with extra liquidity added in only one interval is both above than the original and less concave. It also has a larger domain. "
   ]
  },
  {
   "cell_type": "code",
   "execution_count": null,
   "id": "121a851f-8e39-4790-afbf-ff55a5fb8a20",
   "metadata": {},
   "outputs": [],
   "source": [
    "plt.close()\n",
    "#plt.plot(np.linspace(-35, 50), (1/1.69)*(np.linspace(-35, 50)- 7.94) +4.99)\n",
    "plt.plot(np.sort(b_list), np.sort(a_list), label = 'Uniformly distributed liquidity')\n",
    "plt.plot(np.sort(b_list3), np.sort(a_list3), label = 'Extra liquidity in interval 2')\n",
    "plt.legend()\n",
    "plt.xlabel('Amount of Token B deposited into the pool')\n",
    "plt.ylabel('Amount of Token A withdrawn from the pool')\n",
    "plt.show()"
   ]
  },
  {
   "cell_type": "markdown",
   "id": "77826b3f-08cc-4ef4-a74c-497053df5aef",
   "metadata": {},
   "source": [
    "For a fixed $\\ell$ and known $\\xi$, it is easy to find the optimal Bot attack behavior."
   ]
  },
  {
   "cell_type": "code",
   "execution_count": null,
   "id": "26c1c9af-b78d-47d1-8a33-11ae1ce0e589",
   "metadata": {},
   "outputs": [],
   "source": [
    "gas = 0.001"
   ]
  },
  {
   "cell_type": "markdown",
   "id": "54b13bfa-6fe1-42a7-a0e7-6b41e8f2b4d8",
   "metadata": {},
   "source": [
    "We want to ensure that the bot attack doesn't result in a price more than $s$% than expected, so we choose $x_1$ such that \n",
    "\\begin{equation*}\n",
    "\\psi(x_1 + \\xi, \\ell) - \\psi(x_1) = (1 - sign(\\xi)*s) \\psi(\\xi, \\ell).\n",
    "\\end{equation*}"
   ]
  },
  {
   "cell_type": "markdown",
   "id": "a7452a3a-0225-4d6b-8ff0-db938c8f41a1",
   "metadata": {},
   "source": [
    "Given a value for $x_1$ that is optimal, we can find the corresponding value of $x_2$ that will produce a symmetric swap by calculating\n",
    "\\begin{align*}\n",
    "\\psi(x_1 + \\xi + x_2) =& \\sum_{j=0}^i A_j + K_i/\\sqrt{p^u_i} - \\dfrac{K^2_i}{B_i + x_1 + \\xi + x_2 - b_i + K_i\\sqrt{p^l_i}}= \\psi(x_1 + \\xi, \\ell) - \\psi(x_1, \\ell)\\\\\n",
    "x_2 =& \\dfrac{K_i^2}{A_i + K_i/\\sqrt{p^u_i} - (\\psi(x_1 + \\xi, \\ell) - \\psi(x_1, \\ell))} - (B_i + x_1 + \\xi - b_i + K_i\\sqrt{p^l_i}).\n",
    "\\end{align*}\n",
    "Also note that for a given slippage percentage $s$, we have the constraint that $\\psi(x_1 + \\xi, \\ell) - \\psi(x_1, \\ell) = (1 - s)\\psi(\\xi, \\ell)$."
   ]
  },
  {
   "cell_type": "markdown",
   "id": "f4cbe014-0533-4613-bf6f-76b25d075c4b",
   "metadata": {
    "jp-MarkdownHeadingCollapsed": true,
    "tags": []
   },
   "source": [
    "#### Implementation"
   ]
  },
  {
   "cell_type": "markdown",
   "id": "503c2ed0-51f0-4bfd-8041-9e34014decc2",
   "metadata": {},
   "source": [
    "Testing out the `bot_opt` and `calcProfit` functions on a toy example:"
   ]
  },
  {
   "cell_type": "code",
   "execution_count": null,
   "id": "84591e51-8d76-4e92-86c9-06dd8f1ffeb3",
   "metadata": {},
   "outputs": [],
   "source": [
    "pi = []"
   ]
  },
  {
   "cell_type": "code",
   "execution_count": null,
   "id": "d2c64bf6-449f-4c8a-920c-91c9ddca55fe",
   "metadata": {},
   "outputs": [],
   "source": [
    "l0 = np.array([10, 10,10])\n",
    "l = np.array([10, 62,60])\n",
    "m_star = 1\n",
    "p_star = 1\n",
    "gamma = 0.001\n",
    "\n",
    "nu = Pool(pool_type = 0, mkt = m_star, pool = p_star, fee = gamma)\n",
    "nu.resetLiquidity(l, p_star)\n",
    "bot = Bot(thresh = 0, cap = 100, lam = 0)"
   ]
  },
  {
   "cell_type": "code",
   "execution_count": null,
   "id": "3dd955d6-3671-4ce7-88a4-f55806c230fe",
   "metadata": {},
   "outputs": [],
   "source": [
    "nu.printDetails()"
   ]
  },
  {
   "cell_type": "code",
   "execution_count": null,
   "id": "d686bdbb-625a-4e09-b12c-ff99523f09fd",
   "metadata": {},
   "outputs": [],
   "source": [
    "x_2 = symSwap(10, 50, nu)\n",
    "nu.psi(10 + 50 + x_2)[0] - nu.psi(10 + 50)[0] + nu.psi(10)[0]"
   ]
  },
  {
   "cell_type": "code",
   "execution_count": null,
   "id": "b303245e-ef31-4892-ad82-a2e0b2fffbd4",
   "metadata": {},
   "outputs": [],
   "source": [
    "if 1 == 3:\n",
    "    print(2*gamma/m_star)\n",
    "    breaks = np.concatenate((nu.b_ticks[:-1], nu.b_ticks[1:] - xi))\n",
    "    breaks = breaks[breaks >= nu.b_ticks[0]-xi]\n",
    "    breaks = breaks[breaks <= nu.b_ticks[-1]]\n",
    "    breaks = np.sort(np.unique(breaks))\n",
    "\n",
    "    if xi > 0:    \n",
    "        breaks = np.unique(np.maximum(breaks, 0)) # make sure x1 > 0\n",
    "    else:\n",
    "        breaks = np.unique(np.minimum(breaks, xi)) # make sure x1 < 0\n",
    "\n",
    "    for i in range(len(breaks)-1):\n",
    "        print(f'Interval from {breaks[i]} to {breaks[i+1]}.')\n",
    "        for dx in np.arange(breaks[i], breaks[i+1], 1):\n",
    "            a1, r1 = nu.psi(dx)\n",
    "            a2, r2 = nu.psi(dx + xi)\n",
    "            diff = np.sign(xi)*(1/r1 - 1/r2)\n",
    "            print(diff)\n",
    "    nu.b_ticks"
   ]
  },
  {
   "cell_type": "code",
   "execution_count": null,
   "id": "0b3efd05-d3f6-4f7e-95e2-14844f4a4182",
   "metadata": {},
   "outputs": [],
   "source": [
    "avgB = 0\n",
    "avgLP = 0\n",
    "\n",
    "if p_star < m_star:\n",
    "    prob = np.array([0.95, 0.05])\n",
    "    xilist = np.array([5, -1])\n",
    "elif p_star > m_star:\n",
    "    prob = np.array([0.95, 0.05])\n",
    "    xilist = np.array([-5, 1])\n",
    "else:\n",
    "    prob = np.array([0.5, 0.5])\n",
    "    xilist = np.array([-3, 3])\n",
    "\n",
    "for i in range(len(xilist)):\n",
    "    xi = xilist[i]\n",
    "    x_1, x_2 = bot.optimize(nu, xi)\n",
    "    x_bar = x_1 + xi + x_2\n",
    "    print(f'x_1 = {round(x_1, 5)} and x_2 = {round(x_2, 5)} and x_bar = {round(x_bar, 5)}.')\n",
    "\n",
    "    # introduce a limit to the Bot's capital\n",
    "    bot_capital = 100\n",
    "    x_1 = min(x_1,  bot_capital)\n",
    "    x_1 = max(x_1, -bot_capital)\n",
    "    x_2 = x_bar - x_1 - xi\n",
    "\n",
    "    pi_LP, pi_B = predictProfit(x_1, x_2, xi, nu)   \n",
    "    pi_LP = pi_LP - 0.001*np.sum(np.abs(l - l0))\n",
    "    print(f\"The bot profit in terms of token B is {round(pi_B, 4)}.\")\n",
    "    print(f\"The liquidity provider profit in terms of token B is {round(pi_LP, 4)}.\")\n",
    "\n",
    "    avgB += pi_B*prob[i]\n",
    "    avgLP += pi_LP*prob[i]"
   ]
  },
  {
   "cell_type": "code",
   "execution_count": null,
   "id": "f2212142-f10a-4c94-a3f8-30ab56e66767",
   "metadata": {},
   "outputs": [],
   "source": [
    "pi.append([avgB, avgLP])\n",
    "pi"
   ]
  },
  {
   "cell_type": "markdown",
   "id": "398e1b70-ae1f-4a44-b030-d5bbce98b645",
   "metadata": {},
   "source": [
    "Sometimes I want to double-check that my analytical formulas match what I've programmed - I can run the below cell to test."
   ]
  },
  {
   "cell_type": "code",
   "execution_count": null,
   "id": "494dc3f9-0f90-4a12-9085-1a0da715ae56",
   "metadata": {},
   "outputs": [],
   "source": [
    "# check psi(x_bar) computed value\n",
    "p1, r = nu.psi(x_bar)\n",
    "# check psi(x_bar) simplified formula\n",
    "p2 = nu.tokA[nu.idx] + nu.K(nu.idx)/np.sqrt(nu.ticks[nu.idx+1]) - nu.K(nu.idx)*np.sqrt((1 - gamma)/m_star)\n",
    "p2 = -p2\n",
    "# check psi(x_bar) explicit formula\n",
    "p3 = nu.tokA[nu.idx] + nu.K(nu.idx)/np.sqrt(nu.ticks[nu.idx+1]) - nu.K(nu.idx)**2/(nu.tokB[nu.idx] + x_bar + nu.K(nu.idx)*np.sqrt(nu.ticks[nu.idx]))\n",
    "# check x_bar formula\n",
    "p4 = -nu.tokB[nu.idx] - nu.K(nu.idx)*np.sqrt(nu.ticks[nu.idx]) + nu.K(nu.idx)*np.sqrt(m_star/(1-gamma))\n",
    "print(f'{p1} = {p2} = {p3}?')\n",
    "print(f'{x_bar} = {p4}?')"
   ]
  }
 ],
 "metadata": {
  "kernelspec": {
   "display_name": "Python 3 (ipykernel)",
   "language": "python",
   "name": "python3"
  },
  "language_info": {
   "codemirror_mode": {
    "name": "ipython",
    "version": 3
   },
   "file_extension": ".py",
   "mimetype": "text/x-python",
   "name": "python",
   "nbconvert_exporter": "python",
   "pygments_lexer": "ipython3",
   "version": "3.9.7"
  }
 },
 "nbformat": 4,
 "nbformat_minor": 5
}
